{
  "cells": [
    {
      "cell_type": "markdown",
      "metadata": {
        "id": "_GAqVlnR3VAM"
      },
      "source": [
        "# python implementation of simple Linear Regression on salary data of software engineers"
      ]
    },
    {
      "cell_type": "markdown",
      "metadata": {
        "id": "Yb5lCzhq3VAO"
      },
      "source": [
        "# step 1: import the libraries"
      ]
    },
    {
      "cell_type": "code",
      "execution_count": 1,
      "metadata": {
        "id": "gZCKV4YF3VAO"
      },
      "outputs": [],
      "source": [
        "import numpy as np\n",
        "import matplotlib.pyplot as plt\n",
        "import pandas as pd\n",
        "from sklearn.model_selection import train_test_split\n",
        "from sklearn.linear_model import LinearRegression"
      ]
    },
    {
      "cell_type": "markdown",
      "metadata": {
        "id": "336mxNvg3VAP"
      },
      "source": [
        "# step 2: reading the data and splitting it to input and output\n"
      ]
    },
    {
      "cell_type": "code",
      "execution_count": 2,
      "metadata": {
        "id": "SWwq0si63VAP"
      },
      "outputs": [],
      "source": [
        "dataset = pd.read_csv('https://raw.githubusercontent.com/enuguru/aiandml/master/datasets/salary_regression_train.csv')\n",
        "inputx = dataset.iloc[:, :-1].values\n",
        "outputy = dataset.iloc[:, 1].values"
      ]
    },
    {
      "cell_type": "markdown",
      "metadata": {
        "id": "KFOb1ySD3VAP"
      },
      "source": [
        "# step 3: select one thirds of the data for testing and two thirds for training"
      ]
    },
    {
      "cell_type": "code",
      "execution_count": 3,
      "metadata": {
        "id": "m04F9mQZ3VAP"
      },
      "outputs": [],
      "source": [
        "input_train, input_test, output_train, output_test = train_test_split(inputx, outputy, test_size = 1/4, random_state = 7)"
      ]
    },
    {
      "cell_type": "markdown",
      "metadata": {
        "id": "M8x0-a1P3VAP"
      },
      "source": [
        "# step 4: selecting the simple Linear Regression model"
      ]
    },
    {
      "cell_type": "code",
      "execution_count": 4,
      "metadata": {
        "id": "0Jw_oKke3VAP",
        "outputId": "9e782977-e751-4ea3-a4d0-301c4a41efab",
        "colab": {
          "base_uri": "https://localhost:8080/"
        }
      },
      "outputs": [
        {
          "output_type": "stream",
          "name": "stdout",
          "text": [
            "\n",
            "The parameters of the model are\n",
            "\n",
            " {'copy_X': True, 'fit_intercept': True, 'n_jobs': None, 'positive': False}\n",
            "\n",
            "The model we are using is  LinearRegression()\n"
          ]
        }
      ],
      "source": [
        "model = LinearRegression()\n",
        "print(\"\\nThe parameters of the model are\\n\\n\",model.get_params())\n",
        "#print(model.set_params())\n",
        "print(\"\\nThe model we are using is \", model.fit(input_train, output_train))"
      ]
    },
    {
      "cell_type": "markdown",
      "metadata": {
        "id": "HYTbgft83VAQ"
      },
      "source": [
        "# step 5: testing or model prediction using testinput"
      ]
    },
    {
      "cell_type": "code",
      "execution_count": 5,
      "metadata": {
        "id": "aVifvV8Q3VAQ",
        "outputId": "40cdbfde-b171-4555-cd56-21512f9e18cc",
        "colab": {
          "base_uri": "https://localhost:8080/"
        }
      },
      "outputs": [
        {
          "name": "stdout",
          "output_type": "stream",
          "text": [
            "\n",
            "Give number of years of experience  17\n",
            "\n",
            "The number of years of experience is  [[17.0]]\n",
            "\n",
            "The salary for the number of years of experience is  [187070.83301805]\n",
            "\n",
            "Can I proceed\n",
            "\n"
          ]
        }
      ],
      "source": [
        "years = float(input(\"\\nGive number of years of experience  \"))\n",
        "testinput = [[years]]\n",
        "predicted_output = model.predict(testinput)\n",
        "print('\\nThe number of years of experience is ',testinput)\n",
        "print('\\nThe salary for the number of years of experience is ',predicted_output)\n",
        "yes = input(\"\\nCan I proceed\\n\")"
      ]
    },
    {
      "cell_type": "markdown",
      "metadata": {
        "id": "dhoF_Y5M3VAQ"
      },
      "source": [
        "# step 6: Visualising the training results"
      ]
    },
    {
      "cell_type": "code",
      "execution_count": 6,
      "metadata": {
        "id": "-Rhy0OdZ3VAQ",
        "outputId": "3d4e9e16-5455-493a-a54c-646c977eba37",
        "colab": {
          "base_uri": "https://localhost:8080/",
          "height": 472
        }
      },
      "outputs": [
        {
          "output_type": "display_data",
          "data": {
            "text/plain": [
              "<Figure size 640x480 with 1 Axes>"
            ],
            "image/png": "[encoded data removed]"
          },
          "metadata": {}
        }
      ],
      "source": [
        "plt.scatter(input_train, output_train, color = 'red')\n",
        "plt.plot(input_train, model.predict(input_train), color = 'yellow')\n",
        "plt.title('Salary vs Experience (Training set)')\n",
        "plt.xlabel('Years of Experience')\n",
        "plt.ylabel('Salary')\n",
        "plt.show()"
      ]
    },
    {
      "cell_type": "markdown",
      "metadata": {
        "id": "Ccd2tfUy3VAQ"
      },
      "source": [
        "# step 7: Printing the testing results"
      ]
    },
    {
      "cell_type": "code",
      "execution_count": 7,
      "metadata": {
        "id": "NEOH4WPz3VAQ",
        "outputId": "9735f686-ec1c-491c-fce7-94bf65933ac1",
        "colab": {
          "base_uri": "https://localhost:8080/"
        }
      },
      "outputs": [
        {
          "output_type": "stream",
          "name": "stdout",
          "text": [
            "\n",
            "The test input (number of years of experience) is as follows \n",
            "\n",
            "[[1.5]\n",
            " [5.3]\n",
            " [1.3]\n",
            " [3.7]\n",
            " [4. ]\n",
            " [2.9]\n",
            " [5.9]\n",
            " [8.7]]\n",
            "\n",
            "The output (salary) for the test input is as follows \n",
            "\n",
            "[ 39329.30192021  75549.80631839  37422.95958346  60299.06762442\n",
            "  63158.58112954  52673.69827743  81268.83332863 107957.62604308]\n"
          ]
        }
      ],
      "source": [
        "print(\"\\nThe test input (number of years of experience) is as follows \\n\")\n",
        "print(input_test)\n",
        "# model predicting the Test set results\n",
        "predicted_output = model.predict(input_test)\n",
        "print(\"\\nThe output (salary) for the test input is as follows \\n\")\n",
        "print(predicted_output)"
      ]
    },
    {
      "cell_type": "code",
      "execution_count": 7,
      "metadata": {
        "id": "csSzjETV3VAQ"
      },
      "outputs": [],
      "source": []
    }
  ],
  "metadata": {
    "kernelspec": {
      "display_name": "Python 3 (ipykernel)",
      "language": "python",
      "name": "python3"
    },
    "language_info": {
      "codemirror_mode": {
        "name": "ipython",
        "version": 3
      },
      "file_extension": ".py",
      "mimetype": "text/x-python",
      "name": "python",
      "nbconvert_exporter": "python",
      "pygments_lexer": "ipython3",
      "version": "3.10.13"
    },
    "colab": {
      "provenance": []
    }
  },
  "nbformat": 4,
  "nbformat_minor": 0
}